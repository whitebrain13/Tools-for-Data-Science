{
 "cells": [
  {
   "cell_type": "markdown",
   "metadata": {},
   "source": [
    "<center>\n",
    "    <img src=\"https://cf-courses-data.s3.us.cloud-object-storage.appdomain.cloud/IBMDeveloperSkillsNetwork-DS0105EN-SkillsNetwork/labs/Module2/images/SN_web_lightmode.png\" width=\"300\" alt=\"cognitiveclass.ai logo\">\n",
    "</center>\n"
   ]
  },
  {
   "cell_type": "markdown",
   "metadata": {},
   "source": [
    "#### Add your code below following the instructions given in the course\n"
   ]
  },
  {
   "cell_type": "markdown",
   "metadata": {},
   "source": [
    "# Task 1 This is Final Assigment of Tools for Data Science"
   ]
  },
  {
   "cell_type": "markdown",
   "metadata": {},
   "source": [
    "## Task 2 Title: Final Assignment"
   ]
  },
  {
   "cell_type": "markdown",
   "metadata": {},
   "source": [
    "### Task 3 Hello, my name is Haris. I'm here to complete the final assignment of this course. Let's gives each other feedback"
   ]
  },
  {
   "cell_type": "markdown",
   "metadata": {},
   "source": [
    "### Task 4 Languages of Data Science"
   ]
  },
  {
   "cell_type": "markdown",
   "metadata": {},
   "source": [
    "There are many languages in Data Science, let's give few of example such as\n",
    "- Phyton\n",
    "- R\n",
    "- Scala\n",
    "- Java\n",
    "- C\n",
    "- C ++"
   ]
  },
  {
   "cell_type": "markdown",
   "metadata": {},
   "source": [
    "### Task 5 Libaries of Data Science"
   ]
  },
  {
   "cell_type": "markdown",
   "metadata": {},
   "source": [
    "There are many libraries in Data Science in Phyton, these are few examples:\n",
    "- Scientific Computing Libaries in Phyton, such as Pandas\n",
    "- Visualization Libraries in Phyton, such as Matplotlib\n",
    "- High Level Libraries for Machine Learning and Deep Learning, such as Scikit-Learn\n",
    "- Deep Learning Libraries, such as Tensor Flow\n",
    "- Other Languages Libraries, such as ggplot in R languages"
   ]
  },
  {
   "cell_type": "markdown",
   "metadata": {},
   "source": [
    "### Task 6 Tools for Data Science"
   ]
  },
  {
   "cell_type": "markdown",
   "metadata": {},
   "source": [
    "These are tasks of data science. Below I will provide few example of their tools\n",
    "\n",
    "| Data Management | Data Integration and Transformation | Data Visualization | Model Deployment | Model Monitoring and Assesment | \n",
    "| ------ | ------ | ------ | ------ | ------ |\n",
    "| Hadoop | Apache Spark | Pixie Dust | Apache Prediction 10 | Model DB |\n",
    "| Couch DB | Kubeflow | Kibana | Seldon | Prometheus |\n",
    "| My SQL | Apache Nifi | Hue | Kubernets | IBM AI Fairness 360 |"
   ]
  },
  {
   "cell_type": "markdown",
   "metadata": {},
   "source": [
    "### Task 7 Introducing arithmetic expression examples"
   ]
  },
  {
   "cell_type": "code",
   "execution_count": 35,
   "metadata": {},
   "outputs": [
    {
     "data": {
      "text/plain": [
       "10123"
      ]
     },
     "execution_count": 35,
     "metadata": {},
     "output_type": "execute_result"
    }
   ],
   "source": [
    "# Task 8 Multiply and add numbers\n",
    "\n",
    "(101*100)+23"
   ]
  },
  {
   "cell_type": "code",
   "execution_count": 37,
   "metadata": {},
   "outputs": [
    {
     "data": {
      "text/plain": [
       "166.66666666666666"
      ]
     },
     "execution_count": 37,
     "metadata": {},
     "output_type": "execute_result"
    }
   ],
   "source": [
    "# Task 9 Convert minutes to hours\n",
    "\n",
    "#10000 minutes equals to hours\n",
    "10000/60"
   ]
  },
  {
   "cell_type": "markdown",
   "metadata": {},
   "source": [
    "### Task 10 Learning Objectives"
   ]
  },
  {
   "cell_type": "markdown",
   "metadata": {},
   "source": [
    "These are example of learning language objective list in data science\n",
    "\n",
    "- Identify the criteria and roles for determining the language to learn.\n",
    "\n",
    "- Identify the users and benefits of Python.\n",
    "\n",
    "- Identify the users and uses of the R language.\n",
    "\n",
    "- Define SQL elements and list their benefits.\n",
    "\n",
    "- Review languages such as Java, Scala, C++, JavaScript, and Julia.\n",
    "\n",
    "- List the global communities for connecting with other users.\n",
    "\n"
   ]
  },
  {
   "cell_type": "markdown",
   "metadata": {},
   "source": [
    "# Task 11 Author\n",
    "\n",
    "**Haris**"
   ]
  },
  {
   "cell_type": "code",
   "execution_count": null,
   "metadata": {},
   "outputs": [],
   "source": []
  }
 ],
 "metadata": {
  "kernelspec": {
   "display_name": "anaconda-panel-2023.05-py310",
   "language": "python",
   "name": "conda-env-anaconda-panel-2023.05-py310-py"
  },
  "language_info": {
   "codemirror_mode": {
    "name": "ipython",
    "version": 3
   },
   "file_extension": ".py",
   "mimetype": "text/x-python",
   "name": "python",
   "nbconvert_exporter": "python",
   "pygments_lexer": "ipython3",
   "version": "3.11.5"
  }
 },
 "nbformat": 4,
 "nbformat_minor": 4
}
